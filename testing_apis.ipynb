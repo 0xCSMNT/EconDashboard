{
 "cells": [
  {
   "cell_type": "code",
   "execution_count": 31,
   "metadata": {},
   "outputs": [
    {
     "name": "stdout",
     "output_type": "stream",
     "text": [
      "             Date  Value\n",
      "0      2023-08-30   5.33\n",
      "1      2023-08-29   5.33\n",
      "2      2023-08-28   5.33\n",
      "3      2023-08-27   5.33\n",
      "4      2023-08-26   5.33\n",
      "...           ...    ...\n",
      "25258  1954-07-05   0.88\n",
      "25259  1954-07-04  1.250\n",
      "25260  1954-07-03  1.250\n",
      "25261  1954-07-02  1.250\n",
      "25262  1954-07-01   1.13\n",
      "\n",
      "[25263 rows x 2 columns]\n"
     ]
    }
   ],
   "source": [
    "from pandas import json_normalize\n",
    "import json\n",
    "import pandas as pd\n",
    "import requests\n",
    "\n",
    "# Replace 'your_api_key_here' with your actual API key\n",
    "api_key = \"4fafbf09ddc92b4d267c08a0033a655b\"\n",
    "\n",
    "# Endpoint URL for FEDFUNDS series\n",
    "url = \"https://api.stlouisfed.org/fred/series/observations\"\n",
    "    \n",
    "# Data sources & API endpoints\n",
    "data_sources = [\n",
    "    {'name': 'GDP', 'series': 'GDP', 'frequency': 'Quarterly'},\n",
    "    {'name': 'Unemployment', 'series': 'UNRATE', 'frequency': 'Monthly'},\n",
    "    {'name': 'CPI', 'series': 'CORESTICKM159SFRBATL', 'frequency': 'Monthly'},\n",
    "    {'name': 'Fed Funds Rate', 'series': 'DFF', 'frequency': 'Daily'},\n",
    "    {'name': 'SP500', 'series': 'SP500', 'frequency': 'Daily'},\n",
    "    {'name': 'NASDAQ 100', 'series': 'NASDAQ100', 'frequency': 'Daily'},\n",
    "    {'name': 'Industrial Production', 'series': 'INDRPO', 'frequency': 'Monthly'},\n",
    "    {'name': 'Housing Starts', 'series': 'HOUST', 'frequency': 'Monthly'},\n",
    "    {'name': 'Federal Total Debt', 'series': 'GFDEBTN', 'frequency': 'Quarterly'},\n",
    "    {'name': 'Federal Debt to GDP', 'series': 'GFDEGDQ188S', 'frequency': 'Quarterly'},\n",
    "    {'name': 'Household Debt to GDP', 'series': 'HDTGPDUSQ163N', 'frequency': 'Quarterly'},\n",
    "    {'name': 'Money Supply (M2)', 'series': 'WM2NS', 'frequency': 'Weekly'}\n",
    "]\n",
    "\n",
    "\n",
    "# Series you are checking\n",
    "series = \"DFF\"\n",
    "\n",
    "# Parameters\n",
    "params = {\n",
    "    \"api_key\": api_key,\n",
    "    \"file_type\": \"json\",\n",
    "    \"series_id\": series,  # The series you're interested in    \n",
    "    # \"limit\": 10,  # Optional: Number of results to return\n",
    "    \"sort_order\": \"desc\",  # Optional: Sort order (ascending)\n",
    "    \"observation_start\": \"1950-01-01\"\n",
    "}\n",
    "\n",
    "# Making the API call\n",
    "response = requests.get(url, params=params)\n",
    "\n",
    "# Check if the request was successful\n",
    "if response.status_code == 200:\n",
    "    data = response.json()\n",
    "\n",
    "    # Accessing the 'observations' list \n",
    "    observations = data.get('observations', [])\n",
    "\n",
    "    # Creating lists for 'date' and 'value'\n",
    "    dates = [obs['date'] for obs in observations]\n",
    "    values = [obs['value'] for obs in observations]\n",
    "\n",
    "    # Converting to DataFrame\n",
    "    df = pd.DataFrame({\n",
    "        'Date': dates,\n",
    "        'Value': values\n",
    "    })\n",
    "\n",
    "    print(df)\n",
    "    # print(json.dumps(data, indent=4))\n",
    "else:    \n",
    "    print(f\"Failed to get data: {response.content}\")\n",
    "\n"
   ]
  },
  {
   "cell_type": "code",
   "execution_count": null,
   "metadata": {},
   "outputs": [],
   "source": []
  }
 ],
 "metadata": {
  "kernelspec": {
   "display_name": "Python 3",
   "language": "python",
   "name": "python3"
  },
  "language_info": {
   "codemirror_mode": {
    "name": "ipython",
    "version": 3
   },
   "file_extension": ".py",
   "mimetype": "text/x-python",
   "name": "python",
   "nbconvert_exporter": "python",
   "pygments_lexer": "ipython3",
   "version": "3.8.9"
  },
  "orig_nbformat": 4
 },
 "nbformat": 4,
 "nbformat_minor": 2
}
