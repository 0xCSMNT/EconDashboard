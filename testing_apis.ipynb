{
 "cells": [
  {
   "cell_type": "code",
   "execution_count": 1,
   "metadata": {},
   "outputs": [],
   "source": [
    "import os\n",
    "from dotenv import load_dotenv\n",
    "import requests\n",
    "import json\n",
    "import time\n",
    "\n",
    "# Load environment variables from .env file\n",
    "load_dotenv()\n",
    "\n",
    "# API key and base URL\n",
    "api_key = os.getenv(\"FRED_API_KEY\")\n",
    "base_url = \"https://api.stlouisfed.org/fred/series/observations\"\n",
    "\n",
    "# Define the list of data sources\n",
    "data_sources = [\n",
    "    {'name': 'GDP', 'code': 'GDP', 'frequency': 'Quarterly'},\n",
    "    {'name': 'Federal Total Debt', 'code': 'GFDEBTN', 'frequency': 'Quarterly'},\n",
    "    {'name': 'Federal Debt to GDP', 'code': 'GFDEGDQ188S', 'frequency': 'Quarterly'},\n",
    "    {'name': 'Household Debt to GDP', 'code': 'HDTGPDUSQ163N', 'frequency': 'Quarterly'},\n",
    "    {'name': 'Unemployment', 'code': 'UNRATE', 'frequency': 'Monthly'},\n",
    "    {'name': 'CPI', 'code': 'CORESTICKM159SFRBATL', 'frequency': 'Monthly'},\n",
    "    {'name': 'Industrial Production', 'code': 'INDPRO', 'frequency': 'Monthly'},\n",
    "    {'name': 'Housing Starts', 'code': 'HOUST', 'frequency': 'Monthly'},\n",
    "    {'name': 'Money Supply (M2)', 'code': 'WM2NS', 'frequency': 'Weekly'},\n",
    "    {'name': 'Fed Funds Rate', 'code': 'DFF', 'frequency': 'Daily'},\n",
    "    {'name': 'SP500', 'code': 'SP500', 'frequency': 'Daily'},\n",
    "    {'name': 'NASDAQ 100', 'code': 'NASDAQ100', 'frequency': 'Daily'}\n",
    "]"
   ]
  },
  {
   "cell_type": "code",
   "execution_count": 2,
   "metadata": {},
   "outputs": [
    {
     "name": "stdout",
     "output_type": "stream",
     "text": [
      "Successfully fetched data for GDP (GDP)\n",
      "Successfully fetched data for Federal Total Debt (GFDEBTN)\n",
      "Successfully fetched data for Federal Debt to GDP (GFDEGDQ188S)\n",
      "Successfully fetched data for Household Debt to GDP (HDTGPDUSQ163N)\n",
      "Successfully fetched data for Unemployment (UNRATE)\n",
      "Successfully fetched data for CPI (CORESTICKM159SFRBATL)\n",
      "Successfully fetched data for Industrial Production (INDPRO)\n",
      "Successfully fetched data for Housing Starts (HOUST)\n",
      "Successfully fetched data for Money Supply (M2) (WM2NS)\n",
      "Successfully fetched data for Fed Funds Rate (DFF)\n",
      "Successfully fetched data for SP500 (SP500)\n",
      "Successfully fetched data for NASDAQ 100 (NASDAQ100)\n",
      "Total data points fetched: 43968\n"
     ]
    }
   ],
   "source": [
    "fred_data = {}\n",
    "\n",
    "count = 0\n",
    "for source in data_sources:\n",
    "    params = {\n",
    "        \"api_key\": api_key,\n",
    "        \"file_type\": \"json\",\n",
    "        \"series_id\": source['code'],\n",
    "        \"observation_start\": \"1950-01-01\",\n",
    "        \"sort_order\": \"desc\"\n",
    "    }\n",
    "    \n",
    "    try:\n",
    "        response = requests.get(base_url, params=params)\n",
    "        response.raise_for_status()  # Will raise HTTPError for bad responses\n",
    "        \n",
    "        print(f\"Successfully fetched data for {source['name']} ({source['code']})\")\n",
    "        data = response.json()\n",
    "        count += len(data['observations'])\n",
    "        fred_data[source['code']] = data['observations']\n",
    "        \n",
    "    except requests.exceptions.RequestException as e:\n",
    "        print(f\"Failed to fetch data for {source['name']} ({source['code']})\")\n",
    "        print(f\"Exception: {e}\")\n",
    "\n",
    "    time.sleep(1)  # To avoid hitting rate limit; adjust as needed\n",
    "\n",
    "print(f\"Total data points fetched: {count}\")\n",
    "\n",
    "with open(\"fred_data.json\", \"w\") as f:\n",
    "    json.dump(fred_data, f, indent=4)\n"
   ]
  },
  {
   "cell_type": "code",
   "execution_count": null,
   "metadata": {},
   "outputs": [],
   "source": []
  }
 ],
 "metadata": {
  "kernelspec": {
   "display_name": "Python 3",
   "language": "python",
   "name": "python3"
  },
  "language_info": {
   "codemirror_mode": {
    "name": "ipython",
    "version": 3
   },
   "file_extension": ".py",
   "mimetype": "text/x-python",
   "name": "python",
   "nbconvert_exporter": "python",
   "pygments_lexer": "ipython3",
   "version": "3.11.5"
  },
  "orig_nbformat": 4
 },
 "nbformat": 4,
 "nbformat_minor": 2
}
